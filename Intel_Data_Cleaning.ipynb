{
  "nbformat": 4,
  "nbformat_minor": 0,
  "metadata": {
    "colab": {
      "provenance": []
    },
    "kernelspec": {
      "name": "python3",
      "display_name": "Python 3"
    },
    "language_info": {
      "name": "python"
    }
  },
  "cells": [
    {
      "cell_type": "code",
      "source": [
        "import matplotlib.pyplot as plt\n",
        "import numpy as np\n",
        "import seaborn as sns\n",
        "import csv\n",
        "from datetime import datetime\n",
        "import pandas as pd"
      ],
      "metadata": {
        "id": "jmpir5GN7MTp"
      },
      "execution_count": null,
      "outputs": []
    },
    {
      "cell_type": "code",
      "execution_count": null,
      "metadata": {
        "id": "_Bek9Ldv7E2F"
      },
      "outputs": [],
      "source": [
        "#Data processing\n",
        "raw=[]\n",
        "with open('dataset.csv','r') as fh:\n",
        "  reader = csv.reader(fh)\n",
        "  for i in reader:\n",
        "    if i[1] == '2022-06-31':\n",
        "      i[1] = '2022-07-01'\n",
        "    if i[0] == 'cas_ldw':\n",
        "      i[0] = '1'\n",
        "    if i[0] == 'cas_hmw':\n",
        "      i[0] = '2'\n",
        "    if i[0] == 'cas_fcw':\n",
        "      i[0] = '3'\n",
        "    if i[0] == 'cas_pcw':\n",
        "      i[0] = '4'\n",
        "    raw.append(i)\n",
        "#Fix date\n",
        "#add weekday Column\n",
        "for i in raw:\n",
        "    if i[0] == 'Alert':\n",
        "        i.append(\"Weekday\")\n",
        "        continue\n",
        "    date = i[1]\n",
        "    day_of_week = datetime.strptime(date, '%Y-%m-%d').strftime('%A')\n",
        "    i.append(day_of_week)\n",
        "\n",
        "raw.pop(11202)\n",
        "for i in range(5):\n",
        "  print(raw[i])\n",
        "with open('encoded1.csv','w') as fh:\n",
        "  writer = csv.writer(fh)\n",
        "  writer.writerows(raw)"
      ]
    }
  ]
}